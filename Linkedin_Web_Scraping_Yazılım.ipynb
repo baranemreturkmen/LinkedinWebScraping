{
 "cells": [
  {
   "cell_type": "markdown",
   "metadata": {},
   "source": [
    "Gerekli kütüphaneler yüklendi."
   ]
  },
  {
   "cell_type": "code",
   "execution_count": null,
   "metadata": {},
   "outputs": [],
   "source": [
    "import pandas as pd\n",
    "from selenium import webdriver\n",
    "from selenium.webdriver.common.action_chains import ActionChains   \n",
    "import time\n",
    "from warnings import warn"
   ]
  },
  {
   "cell_type": "markdown",
   "metadata": {},
   "source": [
    "Web scraping işlemini yapacağımız sitenin adresine ihtiyacımız var."
   ]
  },
  {
   "cell_type": "code",
   "execution_count": null,
   "metadata": {},
   "outputs": [],
   "source": [
    "url = \"https://www.linkedin.com/jobs/search/?geoId=102105699&keywords=Yaz%C4%B1l%C4%B1m&location=T%C3%BCrkiye\""
   ]
  },
  {
   "cell_type": "markdown",
   "metadata": {},
   "source": [
    "Selenium web driver ile hangi tarayıcıda scraping işlemini yapacaksam ona uygun driver'ı kullanıyorum. Burada chromedriver'ın \n",
    "bulunduğu doğru dosya yolunu seçmek ve önemli. chromedriver'ı çalıştırmak amacında olduğum için dosya yolunun derlenebilir olduğuna dikkat edin ve .exe dosya uzantısını unutmayın. 'r' parametresi ile dosya yolundaki string'i dosya yolunu belirtirken \\ ifadesinden kurtarıyorum . \\n \\t vs. python'da enter ve tab tuslarına karşılık geldiği için bu kullanımdan kaçıyorum."
   ]
  },
  {
   "cell_type": "code",
   "execution_count": null,
   "metadata": {},
   "outputs": [],
   "source": [
    "driver = webdriver.Chrome(r\"D:\\Users\\baran.turkmen\\Desktop\\chromedriver.exe\")\n",
    "driver.get(url)"
   ]
  },
  {
   "cell_type": "markdown",
   "metadata": {},
   "source": [
    "Web scraping yapacağımız web sitesine eriştiğimizde verileri çekebilmek için giriş yapmamız lazım. Login alanlarının ve butonlarının yüklendiğinden emin olmak için time.sleep ile bir süre bekliyorum. Her zaman stabil şekilde otomatik olarak çalışmıyor. Bu durum internet bağlantısının kalitesinin düşük olmasından kaynaklanıyor olabilir. Bundan dolayı hata yakalama metodlarını kullanarak stabil çalışmadığı durumlarda tekrar kullanıcıyı giriş ve şifre yollama menüsüne yönlendiriyorum .Eğer yine olmazsa manuel olarak kullanıcı adı ve şifrenizi girip devam edebilirsiniz."
   ]
  },
  {
   "cell_type": "code",
   "execution_count": null,
   "metadata": {},
   "outputs": [],
   "source": [
    "try:\n",
    "    time.sleep(3)\n",
    "    driver.find_element_by_xpath(\"/html/body/header/nav/div/a[2]\").click()\n",
    "    time.sleep(5)\n",
    "    mail = input(\"Lütfen kayıtlı mail adresinizi giriniz : \")\n",
    "    sifre = input(\"Lütfen şifrenizi giriniz : \")\n",
    "    driver.find_element_by_id(\"username\").send_keys(mail) #linkedin mail girilecek\n",
    "    driver.find_element_by_id(\"password\").send_keys(sifre)  #linkedin sifre girilecek\n",
    "    driver.find_element_by_xpath(\"/html/body/div/main/div[2]/div[1]/form/div[3]/button\").click()\n",
    "except:\n",
    "    time.sleep(3)\n",
    "    driver.find_element_by_xpath(\"/html/body/header/nav/div/a[2]\").click()\n",
    "    time.sleep(5)\n",
    "    driver.find_element_by_id(\"username\").send_keys(mail) #linkedin mail girilecek\n",
    "    driver.find_element_by_id(\"password\").send_keys(sifre)  #linkedin sifre girilecek\n",
    "    driver.find_element_by_xpath(\"/html/body/div/main/div[2]/div[1]/form/div[3]/button\").click()"
   ]
  },
  {
   "cell_type": "markdown",
   "metadata": {},
   "source": [
    "Sayfa açılınca otomatik olarak gelen mesajlaşma kısmını kapatıyorum. Veri çekerken ulaşmam gereken web elementleri var. Ortalığı karıştırmasını istemiyorum bu kısımın."
   ]
  },
  {
   "cell_type": "code",
   "execution_count": null,
   "metadata": {},
   "outputs": [],
   "source": [
    "try:\n",
    "    time.sleep(5)\n",
    "    driver.find_element_by_xpath(\"(//*[@class='msg-overlay-bubble-header__control msg-overlay-bubble-header__control--new-convo-btn artdeco-button artdeco-button--circle artdeco-button--muted artdeco-button--1 artdeco-button--tertiary ember-view'])[2]\").click()\n",
    "except:\n",
    "    time.sleep(5)\n",
    "    driver.find_element_by_xpath(\"(//*[@class='msg-overlay-bubble-header__control msg-overlay-bubble-header__control--new-convo-btn artdeco-button artdeco-button--circle artdeco-button--muted artdeco-button--1 artdeco-button--tertiary ember-view'])[2]\").click()"
   ]
  },
  {
   "cell_type": "markdown",
   "metadata": {},
   "source": [
    "Çekilecek bilgileri depolamak için listeleri oluşturdum. Ayrıca oluşturduğum algoritma için bir tane de kontrol parametresi oluşturdum. Ana başlık listesi ilandaki ana başlıktan çektiğim bilgileri içerecek. Ana başlık kendi içinde her bir ilan için konum ve şirket ismini içeriyor. Bu liste üzerinden daha sonra ana başlık ve konumu ayıracağım. Yine aynı şekilde kıdem düzeyi, iş birimi, sektör ve istihdam bilgilerini tek bir listede toplama yoluna gittim . Bunun sebebi her bir ilan için bu bilgilerin dördünün de bulunmaması. Bulananları her bir ilan için alıyorum. Bulunmayalara None değer atıyorum. Tamamen oluşturulan algoritmaya göre alınmış bir karar. Bu bilgiler ayrı ayrı da elde edilebilir."
   ]
  },
  {
   "cell_type": "code",
   "execution_count": null,
   "metadata": {},
   "outputs": [],
   "source": [
    "calisan_sayisi = [] \n",
    "basvuru_sayisi = []\n",
    "ana_baslik = []\n",
    "pozisyon = []\n",
    "açıklama = []\n",
    "kıdemd_isb_sek_ist = []\n",
    "kontrol = 0"
   ]
  },
  {
   "cell_type": "markdown",
   "metadata": {},
   "source": [
    "Aşağıda linkedin sayfa yapısına uygun bir şekilde bir algoritma tasarladım. Bu algoritmayı tasarlarken bol bol python'ın hata yakalama özelliğinden faydalandım ."
   ]
  },
  {
   "cell_type": "markdown",
   "metadata": {},
   "source": [
    "for j in range(1,40) ile 1'den 40'a kadar gitmemim nedeni Yazılım anahtar kelimesi ile Linkedinde ilanların 39 sayfada toplanması.\n",
    "\n",
    "Her yeni sayfaya geçişte time.sleep(5) ile 5 saniye bekliyorum.\n",
    "\n",
    "for i in range(1,26): linkedinde her sayfada 25 ilan var. Fakat aslında bu durum öyle değil bazı sayfalarda ilan sayısı 23 bazı sayfalarda 10 vs. değişken bir durum vardı. Gözlemlerime gördüğüm maksimum 25 tane ilan oluşuydu. Yine sayım hatası yapmış olabileceğimden fazladan 2 ilan daha ekledim. İlanların fazla gelmesi durumunda hata yakalama sistemi devreye giriyor ve döngünün içinde var olmayan eksik ilanlar için herhangi bir şey elde etmeden boşa dönüp yeni sayfaya geçiyorum.\n",
    "\n",
    "element = driver.find_element_by_xpath(\"//*[@class='artdeco-pagination__pages artdeco-pagination__pages--number']\") ile sayfanın en aşağısında ki sayfa numaralarının bulunduğu web elementine gidiyorum. Sayfanın en aşağısına gitme durumu sadece her sayfaya yeni geldiğimiz zaman bir kere gerçekleştiriliyor. Bunu yapmamızın sebebi şu , eğer safyanın en aşağısına gitmezsem sayfada ki tüm ilanlar yüklenmiyor. O sayfa 20 tane ilan varsa eğer yaklaşık olarak 15 tane ilanı hiç yokmuş gibi kaçırıyoruz. Bu durumda aşağıda kalan ilanlara ulaşmak adına sayfanın aşağısında ki bi web elementine gidiyorum. Bu şekilde aşağılarda kalan kaybetme olasılığımın olduğu ilanlar yüklenmiş oluyor , görünürlükleri ortaya çıkıyor. Bunu scroll ile de yapabilirdik fakat scroll ile uğraşmaktansa aşağıda bir web elementine gidip tüm ilanların sayfada yüklenmesini sağlamak daha pratik.\n",
    "\n",
    "element = driver.find_element_by_xpath(\"(//*[@class='disabled ember-view job-card-container__link job-card-list__title'])[\"+str(i)+\"]\") ile tıklamam gereken ilanları elde ediyorum. Sayfanın en aşağısından yukarıya çıkma işlemini ilk ilana ulaştığımda otomatik bir şekilde yapmış oluyorum. \n",
    "\n",
    "actions = ActionChains(driver) her bir ilanın üzerinde hareket edebilmem için bu koda ihtiyacım var.\n",
    "actions.move_to_element(element).perform() ilanların üzerinde bu kod sayesinde hareket edebiliyorum.\n",
    "element.click() ile ilanlara tıklıyorum. İlanlardan çekmek istediğim bilgileri elde edebilmem için o ilana tıklamam gerekli.\n",
    "\n",
    "driver.execute_script(\"window.scrollTo(0,document.body.scrollHeight)\") sayfada var olan tüm ilanların sonuna geldiysem hata elde edeceğim , sayfa sonuna hareket etmemi sağlıyor bu kod hata elde ettiğim zaman. Amacımız linkedin'de her sayfada ilan sayısı tam olarak net olmadığından ve biz her sayfada 25 tane ilan varmış gibi yaptığımızdan 25'ten az olan ilanlar için aynı ilanları tekrar tekrar elde etmek. Daha sonra duplicate olan ilanları çıkaracağız. Bu arada bunun yapılmasının sebebi kaç adet ilan var her sayfada bilmiyorum ve oluşacak hata yüzünden döngüden çıkmak , sonraki sayfalara geçememek gibi bir durumla karşılaşmak istemiyorum.\n",
    "\n",
    "İlanların üzerinde hareket edip tıklama yapabildiğime göre açılan her bir ilan için çekmek istediğim bilgileri çekiyorum. Bunu yaparken xpath'den fazlası ile faydalandım. Çekmek istediğim bilgileri elde edebilmem için web sitesi üzerinde var olan web elementine ulaşmam gerekli bundan dolayı driver.find_element_by_xpath komutunu kullandım. Eğer çekmek istediğim bilgi o ilanda yoksa None değer atıyorum o bilgiye. \n",
    "\n",
    "print(ksii.text) ile kıdem düzeyi ,iş birimi ,sektör ve istihdam türünden hangilerini elde ettiğimi ilan başına kontrol ediyorum. Projemiz için bu bilgiler fazlası ile önemliydi. \n",
    "\n",
    "kssi kullanmamım nedeni şu linkedinde kıdem düzeyi , çalışma tipi gibi bilgileri tutan xpathlerin bazen aynı adrese aynı xpath'e sahip olması. Bu durum kssi meselesi biraz veri kaybetmemize sebeb oluyor ama en azından verilerin doğruluğundan eminiz. \n",
    "\n",
    "if(j>8 and j<sayfa_no-7): ve elif(j>=sayfa_no-7): değerleri önemli. Sonraki sayfaya geçmek istediğim sonraki sayfaya geçmek için tıklamam gereken web elementinin adresi ilk 8 sayfa , 8-sayfa_no-7 sayfaları arasında ve sayfno-7'den en son sayfaya kadar farklı. Bulunduğumuz sayfaya göre 3 farklı adrese sahip. Bundan dolayı böyle bir yol izledim.\n",
    "\n",
    "print(\"{}. sayfa\".format(j)) ve print(\"-----------------------------------------------------------\") ile otomasyon aşamasında kaçıncı sayfada olduğumu görebiliyorum."
   ]
  },
  {
   "cell_type": "markdown",
   "metadata": {},
   "source": [
    "Son durumda sayfalar arası geçişi sağlarken elif(j>=sayfa_no-7) bölümünde kalan son birkaç sayfada sayfalar arası geçişi sağlamak adına str(j-(sayfa_no-10)) parametresini xpath'in içerisinde göreceksiniz. Ve yine if(j>8 and j<sayfa_no-7) altında xpath'in içinde sadece 6 değeri ile sayfalar arası geçiş sağlanıyor.Bu durum Linkedin'in sayfa yapısından kaynaklanıyor."
   ]
  },
  {
   "cell_type": "markdown",
   "metadata": {},
   "source": [
    "//*[@class='t-16 t-bold t-black--light ph6']\n",
    "\n",
    "t-16 t-black--light t-bold mb1\n",
    "\n",
    "//*[@class='artdeco-pagination__pages artdeco-pagination__pages--number']"
   ]
  },
  {
   "cell_type": "code",
   "execution_count": null,
   "metadata": {},
   "outputs": [],
   "source": [
    "sayfa_no = int(driver.find_element_by_xpath(\"(//*[@class='artdeco-pagination__indicator artdeco-pagination__indicator--number ember-view'])[9]\").text)\n",
    "print(\"Sayfa sayısı : \",sayfa_no)"
   ]
  },
  {
   "cell_type": "code",
   "execution_count": null,
   "metadata": {},
   "outputs": [],
   "source": [
    "for j in range(1,sayfa_no+1):\n",
    "    time.sleep(5)\n",
    "    try:\n",
    "        element = driver.find_element_by_xpath(\"//*[@class='artdeco-pagination__pages artdeco-pagination__pages--number']\")\n",
    "        actions = ActionChains(driver)\n",
    "        actions.move_to_element(element).perform()\n",
    "    except:\n",
    "        try:\n",
    "            driver.refresh()\n",
    "            time.sleep(5)\n",
    "            element = driver.find_element_by_xpath(\"//*[@class='artdeco-pagination__pages artdeco-pagination__pages--number']\")\n",
    "            actions = ActionChains(driver)\n",
    "            actions.move_to_element(element).perform()\n",
    "        except:\n",
    "            pass\n",
    "    for i in range(1,26):\n",
    "        try:\n",
    "            time.sleep(2)\n",
    "            element = driver.find_element_by_xpath(\"(//*[@class='disabled ember-view job-card-container__link job-card-list__title'])[\"+str(i)+\"]\")\n",
    "            actions = ActionChains(driver)\n",
    "            actions.move_to_element(element).perform()\n",
    "            time.sleep(2)\n",
    "            element.click()\n",
    "        except:\n",
    "            driver.execute_script(\"window.scrollTo(0,document.body.scrollHeight)\")\n",
    "        try:\n",
    "            #Poziyon\n",
    "            pozisyon.append(element.text)\n",
    "        except:\n",
    "            pozisyon.append(None)\n",
    "        try:\n",
    "            #Basvuru sayisi\n",
    "            bas_say = driver.find_element_by_xpath(\"(//*[@class='jobs-details-job-summary__text--ellipsis'])[1]\").text\n",
    "            basvuru_sayisi.append(bas_say)\n",
    "        except:\n",
    "            basvuru_sayisi.append(None)\n",
    "        try:\n",
    "            #Ana baslik -> Sirket adi , konum \n",
    "            ana=driver.find_element_by_xpath(\"(//*[@class='jobs-details-top-card__company-info t-14 t-black--light t-normal mt1'])\").text\n",
    "            ana_baslik.append(ana)\n",
    "        except:\n",
    "            ana_baslik.append(None)\n",
    "        try:\n",
    "            #Calisan sayisi\n",
    "            cal_say = driver.find_element_by_xpath(\"(//*[@class='jobs-details-job-summary__text--ellipsis'])[3]\").text\n",
    "            calisan_sayisi.append(cal_say)\n",
    "        except:\n",
    "            calisan_sayisi.append(None)\n",
    "        try:\n",
    "            #kıdem düzeyi , sektör ,istihdam türü ,iş birimi\n",
    "            time.sleep(2)\n",
    "            ksii = driver.find_element_by_xpath(\"//*[@id='job-details']/div[2]\")\n",
    "            actions = ActionChains(driver)\n",
    "            actions.move_to_element(ksii).perform()\n",
    "            time.sleep(2)\n",
    "            kıdemd_isb_sek_ist.append(ksii.text)\n",
    "        except:\n",
    "            try:\n",
    "                time.sleep(2)\n",
    "                ksii = driver.find_element_by_xpath(\"//*[@id='job-details']/div[1]\")\n",
    "                actions = ActionChains(driver)\n",
    "                actions.move_to_element(ksii).perform()\n",
    "                time.sleep(2)\n",
    "                kıdemd_isb_sek_ist.append(ksii.text)\n",
    "            except:\n",
    "                kıdemd_isb_sek_ist.append(None)\n",
    "                kontrol +=1\n",
    "                print(kontrol)\n",
    "        try:\n",
    "            #açıklama\n",
    "            parametre1 = 0\n",
    "            icerik=\"\"\n",
    "            while True:\n",
    "                parametre1+=1\n",
    "                icerik+=driver.find_element_by_xpath(\"//*[@id='job-details']/span/p[\"+str(parametre1)+\"]\").text\n",
    "        except:\n",
    "                try:\n",
    "                    icerik+=driver.find_element_by_xpath(\"//*[@id='job-details']/span/ul[1]\").text\n",
    "                except:\n",
    "                    pass\n",
    "        try:\n",
    "            parametre2=0\n",
    "            while True:\n",
    "                parametre2+=1\n",
    "                icerik+=driver.find_element_by_xpath(\"//*[@id='job-details']/span/p[\"+str(parametre2)+\"]\").text\n",
    "        except:\n",
    "                try:\n",
    "                    icerik+=driver.find_element_by_xpath(\"//*[@id='job-details']/span/ul[2]\").text\n",
    "                except:\n",
    "                    pass\n",
    "        if(icerik == \"\"):\n",
    "            açıklama.append(None)\n",
    "        else:\n",
    "            açıklama.append(icerik)\n",
    "        try:\n",
    "            \"\"\"print(element.text)\n",
    "            print(ana)\n",
    "            print(bas_say)\n",
    "            print(cal_say)\"\"\"\n",
    "            print(ksii.text)\n",
    "        except:\n",
    "            pass\n",
    "    try:\n",
    "        if(j>8 and j<sayfa_no-7):\n",
    "            driver.find_element_by_xpath(\"(//*[@class='artdeco-pagination__indicator artdeco-pagination__indicator--number ember-view'])[6]\").click()\n",
    "            print(\"{}. sayfa\".format(j))\n",
    "            print(\"-----------------------------------------------------------\")\n",
    "        elif(j>=sayfa_no-7):\n",
    "            driver.find_element_by_xpath(\"(//*[@class='artdeco-pagination__indicator artdeco-pagination__indicator--number ember-view'])[\"+str(j-(sayfa_no-10))+\"]\").click()\n",
    "            print(\"{}. sayfa\".format(j))\n",
    "            print(\"-----------------------------------------------------------\")\n",
    "        else:\n",
    "            driver.find_element_by_xpath(\"(//*[@class='artdeco-pagination__indicator artdeco-pagination__indicator--number ember-view'])[\"+str(j)+\"]\").click()\n",
    "            print(\"{}. sayfa\".format(j))\n",
    "            print(\"-----------------------------------------------------------\")\n",
    "    except:\n",
    "        pass"
   ]
  },
  {
   "cell_type": "markdown",
   "metadata": {},
   "source": [
    "Şirket bilgileri ve konum bilgileri ana başlıkta bir arada bulunuyordu. Bunun için 2 adet boş listeye ihtiyacım var."
   ]
  },
  {
   "cell_type": "code",
   "execution_count": null,
   "metadata": {},
   "outputs": [],
   "source": [
    "sirket = []\n",
    "konum = []"
   ]
  },
  {
   "cell_type": "markdown",
   "metadata": {},
   "source": [
    "Ana başık listesinin içinde var olan şirket ve konum bilgilerini ayırıyorum. Eğer scraping sonucunda elimde bir bilgi mevcut değilse None değer atıyorum."
   ]
  },
  {
   "cell_type": "code",
   "execution_count": null,
   "metadata": {},
   "outputs": [],
   "source": [
    "for i in ana_baslik:\n",
    "    try:\n",
    "        sirket.append(i.split(\"\\n\")[1])\n",
    "    except:\n",
    "        sirket.append(None)\n",
    "    try:\n",
    "        konum.append(i.split(\"\\n\")[3])\n",
    "    except:\n",
    "        konum.append(None)"
   ]
  },
  {
   "cell_type": "markdown",
   "metadata": {},
   "source": [
    "Bizim için kıdem düzeyi , istihdam türü , iş birimi ve sektör fazlasıyla önemliydi. Gerçekten elde edip etmediğimi kontrol ediyorum."
   ]
  },
  {
   "cell_type": "code",
   "execution_count": null,
   "metadata": {},
   "outputs": [],
   "source": [
    "print(kıdemd_isb_sek_ist)"
   ]
  },
  {
   "cell_type": "markdown",
   "metadata": {},
   "source": [
    "Kıdem düzeyi , istihdam türü , iş birimi ve sektör bilgileri tek bir liste altındaydı. Bu bilgileri de ayrı ayrı elde etmem gerek."
   ]
  },
  {
   "cell_type": "code",
   "execution_count": null,
   "metadata": {},
   "outputs": [],
   "source": [
    "kıdem_düzeyi = []\n",
    "sektör = []\n",
    "is_birimi = []\n",
    "istihdam_türü = []"
   ]
  },
  {
   "cell_type": "markdown",
   "metadata": {},
   "source": [
    "Aşağıda tasarladığım 4 adet kod bloğu ayrı ayrı bu bilgileri elde etmeme olanak sağladı. Yukarıda bu bilgileri elde edip etmediğimi kontrol ederken aynı zamanda ne şekilde elde ettiğimi de gördüm. Buna uygun bir tasarım gerçekleştirdim."
   ]
  },
  {
   "cell_type": "code",
   "execution_count": null,
   "metadata": {},
   "outputs": [],
   "source": [
    "for i in kıdemd_isb_sek_ist:\n",
    "    try:\n",
    "        if(i.split(\"\\n\")[0].startswith(\"Kıdem\")):\n",
    "            kıdem_düzeyi.append(i.split(\"\\n\")[1])\n",
    "\n",
    "        elif(i.split(\"\\n\")[2].startswith(\"Kıdem\")):\n",
    "            kıdem_düzeyi.append(i.split(\"\\n\")[3])\n",
    "\n",
    "        elif(i.split(\"\\n\")[4].startswith(\"Kıdem\")):\n",
    "            kıdem_düzeyi.append(i.split(\"\\n\")[5])\n",
    "\n",
    "        elif(i.split(\"\\n\")[6].startswith(\"Kıdem\")):\n",
    "            kıdem_düzeyi.append(i.split(\"\\n\")[7])\n",
    "        else:\n",
    "            kıdem_düzeyi.append(None)\n",
    "    except:\n",
    "        kıdem_düzeyi.append(None)"
   ]
  },
  {
   "cell_type": "code",
   "execution_count": null,
   "metadata": {},
   "outputs": [],
   "source": [
    "for i in kıdemd_isb_sek_ist:\n",
    "    try:\n",
    "        if(i.split(\"\\n\")[0].startswith(\"Sektör\")):\n",
    "            sektör.append(i.split(\"\\n\")[1])\n",
    "\n",
    "        elif(i.split(\"\\n\")[2].startswith(\"Sektör\")):\n",
    "            sektör.append(i.split(\"\\n\")[3])\n",
    "\n",
    "        elif(i.split(\"\\n\")[4].startswith(\"Sektör\")):\n",
    "            sektör.append(i.split(\"\\n\")[5])\n",
    "\n",
    "        elif(i.split(\"\\n\")[6].startswith(\"Sektör\")):\n",
    "            sektör.append(i.split(\"\\n\")[7])\n",
    "        else:\n",
    "            sektör.append(None)\n",
    "    except:\n",
    "        sektör.append(None)"
   ]
  },
  {
   "cell_type": "code",
   "execution_count": null,
   "metadata": {},
   "outputs": [],
   "source": [
    "for i in kıdemd_isb_sek_ist:\n",
    "    try:\n",
    "        if(i.split(\"\\n\")[0].startswith(\"İstihdam\")):\n",
    "            istihdam_türü.append(i.split(\"\\n\")[1])\n",
    "\n",
    "        elif(i.split(\"\\n\")[2].startswith(\"İstihdam\")):\n",
    "            istihdam_türü.append(i.split(\"\\n\")[3])\n",
    "\n",
    "        elif(i.split(\"\\n\")[4].startswith(\"İstihdam\")):\n",
    "            istihdam_türü.append(i.split(\"\\n\")[5])\n",
    "\n",
    "        elif(i.split(\"\\n\")[6].startswith(\"İstihdam\")):\n",
    "            istihdam_türü.append(i.split(\"\\n\")[7])\n",
    "        else:\n",
    "            istihdam_türü.append(None)\n",
    "    except:\n",
    "        istihdam_türü.append(None)"
   ]
  },
  {
   "cell_type": "code",
   "execution_count": null,
   "metadata": {},
   "outputs": [],
   "source": [
    "for i in kıdemd_isb_sek_ist:\n",
    "    try:\n",
    "        if(i.split(\"\\n\")[0].startswith(\"İş Alanları\")):\n",
    "            is_birimi.append(i.split(\"\\n\")[1])\n",
    "\n",
    "        elif(i.split(\"\\n\")[2].startswith(\"İş Alanları\")):\n",
    "            is_birimi.append(i.split(\"\\n\")[3])\n",
    "\n",
    "        elif(i.split(\"\\n\")[4].startswith(\"İş Alanları\")):\n",
    "            is_birimi.append(i.split(\"\\n\")[5])\n",
    "\n",
    "        elif(i.split(\"\\n\")[6].startswith(\"İş Alanları\")):\n",
    "            is_birimi.append(i.split(\"\\n\")[7])\n",
    "        else:\n",
    "            is_birimi.append(None)\n",
    "    except:\n",
    "        is_birimi.append(None)"
   ]
  },
  {
   "cell_type": "markdown",
   "metadata": {},
   "source": [
    "Kıdem düzeyini gerçekten ayırıp ayıramadığımı kontrol ediyorum."
   ]
  },
  {
   "cell_type": "code",
   "execution_count": null,
   "metadata": {},
   "outputs": [],
   "source": [
    "print(kıdem_düzeyi)"
   ]
  },
  {
   "cell_type": "markdown",
   "metadata": {},
   "source": [
    "Dataframe oluşturucağım için dataframe'in tüm sütunları birbirine eşit olmalı . Bunu kontrol ediyorum."
   ]
  },
  {
   "cell_type": "code",
   "execution_count": null,
   "metadata": {},
   "outputs": [],
   "source": [
    "if((len(ana_baslik)==len(konum)) and (len(sirket)==len(pozisyon)) and (len(basvuru_sayisi) and len(calisan_sayisi)) and (len(açıklama)==len(istihdam_türü)) and (len(sektör)==len(is_birimi)) and (len(kıdem_düzeyi)==len(açıklama))):\n",
    "    print(True)"
   ]
  },
  {
   "cell_type": "markdown",
   "metadata": {},
   "source": [
    "Yukarıda kontrol ettim ama görsel olarak sayılarının eşit olduğunu da görmek istiyorum."
   ]
  },
  {
   "cell_type": "code",
   "execution_count": null,
   "metadata": {},
   "outputs": [],
   "source": [
    "print(len(ana_baslik),len(konum),len(sirket),len(pozisyon),len(basvuru_sayisi),len(calisan_sayisi),len(açıklama),len(istihdam_türü),len(sektör),len(is_birimi),len(kıdem_düzeyi),len(açıklama))"
   ]
  },
  {
   "cell_type": "markdown",
   "metadata": {},
   "source": [
    "Dataframe oluşturuyorum."
   ]
  },
  {
   "cell_type": "code",
   "execution_count": null,
   "metadata": {},
   "outputs": [],
   "source": [
    "Yazılım = pd.DataFrame({'Şirket': sirket,\n",
    "'Pozisyon':pozisyon,\n",
    "'Başvuru Sayısı': basvuru_sayisi,\n",
    "'Çalışan Sayısı': calisan_sayisi,\n",
    "'Konum': konum,\n",
    "'Açıklama':açıklama,\n",
    "'İş Birimi':is_birimi,\n",
    "'İstihdam Türü':istihdam_türü,\n",
    "'Sektör':sektör,\n",
    "'Pozisyon':pozisyon,\n",
    "'Kıdem Düzeyi':kıdem_düzeyi\n",
    "})"
   ]
  },
  {
   "cell_type": "code",
   "execution_count": null,
   "metadata": {},
   "outputs": [],
   "source": [
    "Yazılım"
   ]
  },
  {
   "cell_type": "markdown",
   "metadata": {},
   "source": [
    "Kaç adet birbirinin aynısı ilanım var bakıyorum."
   ]
  },
  {
   "cell_type": "code",
   "execution_count": null,
   "metadata": {},
   "outputs": [],
   "source": [
    "Yazılım.duplicated().sum()"
   ]
  },
  {
   "cell_type": "markdown",
   "metadata": {},
   "source": [
    "Tekrarlı ilanları çıkardığım zaman geriye kalan ilan sayısına bakıyorum. İlan sayıları da bizim için önemliydi."
   ]
  },
  {
   "cell_type": "code",
   "execution_count": null,
   "metadata": {},
   "outputs": [],
   "source": [
    "Yazılım.drop_duplicates().shape"
   ]
  },
  {
   "cell_type": "markdown",
   "metadata": {},
   "source": [
    "Tekrar eden ilanları atıyorum"
   ]
  },
  {
   "cell_type": "code",
   "execution_count": null,
   "metadata": {},
   "outputs": [],
   "source": [
    "Yazılım.drop_duplicates(inplace=True)"
   ]
  },
  {
   "cell_type": "markdown",
   "metadata": {},
   "source": [
    "Elimde kalan ilan sayısına tekrar bakıyorum."
   ]
  },
  {
   "cell_type": "code",
   "execution_count": null,
   "metadata": {},
   "outputs": [],
   "source": [
    "Yazılım.shape"
   ]
  },
  {
   "cell_type": "code",
   "execution_count": null,
   "metadata": {},
   "outputs": [],
   "source": [
    "Yazılım"
   ]
  },
  {
   "cell_type": "markdown",
   "metadata": {},
   "source": [
    "Hangi sütunlarda kaç addet None değere sahibim buna bakıyorum."
   ]
  },
  {
   "cell_type": "code",
   "execution_count": null,
   "metadata": {},
   "outputs": [],
   "source": [
    "Yazılım.info()"
   ]
  },
  {
   "cell_type": "markdown",
   "metadata": {},
   "source": [
    "Son olarak elde ettiğim dataframe'i xls dosyası olarak kaydediyorum."
   ]
  },
  {
   "cell_type": "code",
   "execution_count": null,
   "metadata": {},
   "outputs": [],
   "source": [
    "Yazılım.to_excel(\"Yazılım_Son_Nisan_23.xls\",encoding=\"utf-16\")"
   ]
  },
  {
   "cell_type": "code",
   "execution_count": null,
   "metadata": {},
   "outputs": [],
   "source": []
  }
 ],
 "metadata": {
  "kernelspec": {
   "display_name": "Python 3",
   "language": "python",
   "name": "python3"
  },
  "language_info": {
   "codemirror_mode": {
    "name": "ipython",
    "version": 3
   },
   "file_extension": ".py",
   "mimetype": "text/x-python",
   "name": "python",
   "nbconvert_exporter": "python",
   "pygments_lexer": "ipython3",
   "version": "3.8.5"
  }
 },
 "nbformat": 4,
 "nbformat_minor": 2
}
